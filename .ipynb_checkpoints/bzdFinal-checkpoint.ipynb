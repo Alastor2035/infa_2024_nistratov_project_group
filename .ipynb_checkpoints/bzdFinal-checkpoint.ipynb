{
 "cells": [
  {
   "cell_type": "markdown",
   "metadata": {},
   "source": [
    "\n",
    "Данная программа решает тест по бжд автоматически. Работает как на финальном, так и на тренировочных тестах.\n",
    "\n",
    "Author: Maxim D.\n",
    "\n",
    "## Требования\n",
    "\n",
    "- Установленный google chrome\n",
    "- Локальная среда jupiter\n",
    "\n",
    "## Дисклеймер\n",
    "\n",
    "Программа будет решать тест исходя из данных собранных в таблице. Таблица содержит некоторое количество неправильных ответов, поэтому в программу встроено несколько проверок ответов на адекватность. Если есть подозрения что ответ неправильный программа пропустит этот вопрос.\n",
    "\n",
    "Проверки ответов, а также данные в таблице не 100% достоверны, поэтому могуть быть ошибки в 1-2% случаев.\n",
    "\n",
    "## Инструкция\n",
    "\n",
    "1. Запустите setup. Все необходимые библиотеки загрузятся и откроется новое окно chrome. Войдите в систему строго **в текущей вкладке**.\n",
    "2. Запустите блок Parse answers from ans.csv. Ответы загрузятся в память программы\n",
    "3. В той же вкладке, которую открыла программа, откройте и начните попытку в любом тесте. Если открыть тест в другой вкладке или окне, программа не будет иметь доступа к странице.\n",
    "4. Запустите блок solve. Тест решится автоматически.\n",
    "5. В ручную решите не отвеченные вопросы. При решении может помочь вывод программы.\n",
    "6. (Опционально) Откройте другой тест и запустите solve еще раз\n",
    "\n"
   ]
  },
  {
   "cell_type": "markdown",
   "metadata": {},
   "source": [
    "# Setup"
   ]
  },
  {
   "cell_type": "code",
   "execution_count": null,
   "metadata": {},
   "outputs": [],
   "source": [
    "%pip install chromedriver-autoinstaller selenium\n",
    "\n",
    "import sys\n",
    "sys.path.insert(0,'/usr/lib/chromium-browser/chromedriver')\n",
    "from selenium.webdriver.common.by import By\n",
    "import time\n",
    "from selenium import webdriver\n",
    "import chromedriver_autoinstaller\n",
    "\n",
    "# setup chrome options\n",
    "chrome_options = webdriver.ChromeOptions()\n",
    "chrome_options.add_argument('--no-sandbox')\n",
    "chrome_options.add_argument('--disable-dev-shm-usage')\n",
    "\n",
    "# set path to chromedriver as per your configuration\n",
    "chromedriver_autoinstaller.install()\n",
    "driver = webdriver.Chrome(options=chrome_options)\n",
    "driver.get(\"https://lms.mipt.ru/\")"
   ]
  },
  {
   "cell_type": "markdown",
   "metadata": {},
   "source": [
    "# Parse answers from ans.csv"
   ]
  },
  {
   "cell_type": "code",
   "execution_count": 17,
   "metadata": {},
   "outputs": [],
   "source": [
    "import csv\n",
    "from collections import defaultdict\n",
    "\n",
    "data_dict = defaultdict(list)\n",
    "data_dict_all = defaultdict(list)\n",
    "\n",
    "def is_english_letter(char):\n",
    "    return 'a' <= char <= 'z'\n",
    "\n",
    "# Trims a. b. c. d. from text beginning\n",
    "def myTrim(value):\n",
    "    if (len(value) > 3 and is_english_letter(value[0]) and value[1] == '.' and value[2] == ' '):\n",
    "            value = value[3:]\n",
    "    return value\n",
    "\n",
    "with open('ans.csv', 'r', encoding='utf-8') as f:\n",
    "    csv_reader = csv.reader(f)\n",
    "    \n",
    "    next(csv_reader, None) \n",
    "    \n",
    "    for row in csv_reader:\n",
    "        key = row[0].strip()\n",
    "        value = myTrim(row[1].strip())\n",
    "        if (len(value) > 0 and value[0].isalnum()):\n",
    "            data_dict[key].append(value)\n",
    "        data_dict_all[key].append(value)"
   ]
  },
  {
   "cell_type": "markdown",
   "metadata": {},
   "source": [
    "# Solve test currently open in the browser"
   ]
  },
  {
   "cell_type": "code",
   "execution_count": null,
   "metadata": {},
   "outputs": [],
   "source": [
    "def children(elem):\n",
    "    return elem.find_elements(By.XPATH, './*')\n",
    "\n",
    "def move_to_next_question():\n",
    "    time.sleep(0.1)\n",
    "    button = driver.find_element(By.XPATH, '//*[@name=\"next\"]')\n",
    "    if button.get_attribute('value') == 'Следующая страница':\n",
    "        button.click()\n",
    "        driver.implicitly_wait(4)    \n",
    "        return True        \n",
    "    else:\n",
    "        return False\n",
    "\n",
    "def solve():\n",
    "    prompt = driver.find_element(By.XPATH, '//*[@class=\"qtext\"]').text.strip()\n",
    "\n",
    "    print(prompt)\n",
    "    answersElem = driver.find_element(By.XPATH, '//*[@class=\"answer\"]')\n",
    "    childrenElem = answersElem.find_elements(By.XPATH, './*')  \n",
    "\n",
    "    answers = [myTrim(answer.text.strip()) for answer in childrenElem]\n",
    "\n",
    "\n",
    "    if prompt in data_dict:\n",
    "        corrAns = data_dict[prompt]\n",
    "        \n",
    "        # Check if there is enough confidence to answer the question\n",
    "        cnt = 0\n",
    "        for i in range(len(answers)):\n",
    "            ans = answers[i]\n",
    "            \n",
    "            if ans in corrAns:\n",
    "                if (cnt != 0):\n",
    "                    print('multipleAnswersFound')\n",
    "                cnt+=1  \n",
    "                if (('*' + ans) in data_dict_all[prompt]):\n",
    "                    print('incorrectFound')\n",
    "                    cnt = 5\n",
    "        if cnt != 1:\n",
    "            print(data_dict_all[prompt])\n",
    "            for ans in answers:\n",
    "                print('correct:',data_dict[prompt].count(ans),'incorrect:', data_dict_all[prompt].count('*' + ans),ans)\n",
    "\n",
    "        else:\n",
    "            for i in range(len(answers)):\n",
    "                ans = answers[i]\n",
    "                if ans in corrAns:\n",
    "                    print('found')\n",
    "                    driver.execute_script(\"arguments[0].style.color = 'red';\", childrenElem[i])\n",
    "                    children(childrenElem[i])[0].click()\n",
    "    else:\n",
    "        print(\"err\")\n",
    "\n",
    "while True:\n",
    "    solve()\n",
    "    if not move_to_next_question():\n",
    "        break\n"
   ]
  },
  {
   "cell_type": "code",
   "execution_count": null,
   "metadata": {},
   "outputs": [],
   "source": []
  }
 ],
 "metadata": {
  "kernelspec": {
   "display_name": "Python 3",
   "language": "python",
   "name": "python3"
  },
  "language_info": {
   "codemirror_mode": {
    "name": "ipython",
    "version": 3
   },
   "file_extension": ".py",
   "mimetype": "text/x-python",
   "name": "python",
   "nbconvert_exporter": "python",
   "pygments_lexer": "ipython3",
   "version": "3.10.0"
  }
 },
 "nbformat": 4,
 "nbformat_minor": 2
}
