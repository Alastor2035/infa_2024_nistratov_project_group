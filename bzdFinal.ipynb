{
 "cells": [
  {
   "cell_type": "markdown",
   "metadata": {},
   "source": [
    "\n",
    "Данная программа решает тест по бжд автоматически. Работает как на финальном, так и на тренировочных тестах.\n",
    "\n",
    "Author: Maxim D.\n",
    "\n",
    "## Требования\n",
    "\n",
    "- Установленный google chrome\n",
    "- Локальная среда jupiter\n",
    "\n",
    "## Дисклеймер\n",
    "\n",
    "Программа будет решать тест исходя из данных собранных в таблице. Таблица содержит некоторое количество неправильных ответов, поэтому в программу встроено несколько проверок ответов на адекватность. Если есть подозрения что ответ неправильный программа пропустит этот вопрос.\n",
    "\n",
    "Проверки ответов, а также данные в таблице не 100% достоверны, поэтому могуть быть ошибки в 1-2% случаев.\n",
    "\n",
    "## Инструкция\n",
    "\n",
    "1. Запустите setup. Все необходимые библиотеки загрузятся и откроется новое окно chrome. Войдите в систему строго **в текущей вкладке**.\n",
    "2. Запустите блок Parse answers from ans.csv. Ответы загрузятся в память программы\n",
    "3. В той же вкладке, которую открыла программа, откройте и начните попытку в любом тесте. Если открыть тест в другой вкладке или окне, программа не будет иметь доступа к странице.\n",
    "4. Запустите блок solve. Тест решится автоматически.\n",
    "5. В ручную решите не отвеченные вопросы. При решении может помочь вывод программы.\n",
    "6. (Опционально) Откройте другой тест и запустите solve еще раз\n",
    "\n"
   ]
  },
  {
   "cell_type": "markdown",
   "metadata": {},
   "source": [
    "# Setup"
   ]
  },
  {
   "cell_type": "code",
   "execution_count": 2,
   "metadata": {},
   "outputs": [
    {
     "name": "stdout",
     "output_type": "stream",
     "text": [
      "Requirement already satisfied: chromedriver-autoinstaller in ./.venv/lib/python3.12/site-packages (0.6.4)\n",
      "Requirement already satisfied: selenium in ./.venv/lib/python3.12/site-packages (4.27.1)\n",
      "Requirement already satisfied: packaging>=23.1 in ./.venv/lib/python3.12/site-packages (from chromedriver-autoinstaller) (24.2)\n",
      "Requirement already satisfied: urllib3<3,>=1.26 in ./.venv/lib/python3.12/site-packages (from urllib3[socks]<3,>=1.26->selenium) (2.2.3)\n",
      "Requirement already satisfied: trio~=0.17 in ./.venv/lib/python3.12/site-packages (from selenium) (0.27.0)\n",
      "Requirement already satisfied: trio-websocket~=0.9 in ./.venv/lib/python3.12/site-packages (from selenium) (0.11.1)\n",
      "Requirement already satisfied: certifi>=2021.10.8 in ./.venv/lib/python3.12/site-packages (from selenium) (2024.8.30)\n",
      "Requirement already satisfied: typing_extensions~=4.9 in ./.venv/lib/python3.12/site-packages (from selenium) (4.12.2)\n",
      "Requirement already satisfied: websocket-client~=1.8 in ./.venv/lib/python3.12/site-packages (from selenium) (1.8.0)\n",
      "Requirement already satisfied: attrs>=23.2.0 in ./.venv/lib/python3.12/site-packages (from trio~=0.17->selenium) (24.2.0)\n",
      "Requirement already satisfied: sortedcontainers in ./.venv/lib/python3.12/site-packages (from trio~=0.17->selenium) (2.4.0)\n",
      "Requirement already satisfied: idna in ./.venv/lib/python3.12/site-packages (from trio~=0.17->selenium) (3.10)\n",
      "Requirement already satisfied: outcome in ./.venv/lib/python3.12/site-packages (from trio~=0.17->selenium) (1.3.0.post0)\n",
      "Requirement already satisfied: sniffio>=1.3.0 in ./.venv/lib/python3.12/site-packages (from trio~=0.17->selenium) (1.3.1)\n",
      "Requirement already satisfied: wsproto>=0.14 in ./.venv/lib/python3.12/site-packages (from trio-websocket~=0.9->selenium) (1.2.0)\n",
      "Requirement already satisfied: pysocks!=1.5.7,<2.0,>=1.5.6 in ./.venv/lib/python3.12/site-packages (from urllib3[socks]<3,>=1.26->selenium) (1.7.1)\n",
      "Requirement already satisfied: h11<1,>=0.9.0 in ./.venv/lib/python3.12/site-packages (from wsproto>=0.14->trio-websocket~=0.9->selenium) (0.14.0)\n",
      "Note: you may need to restart the kernel to use updated packages.\n"
     ]
    },
    {
     "ename": "SessionNotCreatedException",
     "evalue": "Message: session not created: DevToolsActivePort file doesn't exist\nStacktrace:\n#0 0x577f900ba8fa <unknown>\n#1 0x577f8fbcbd20 <unknown>\n#2 0x577f8fc08664 <unknown>\n#3 0x577f8fc039fb <unknown>\n#4 0x577f8fbfef96 <unknown>\n#5 0x577f8fc4ad86 <unknown>\n#6 0x577f8fc4a3d6 <unknown>\n#7 0x577f8fc3e893 <unknown>\n#8 0x577f8fc0d30d <unknown>\n#9 0x577f8fc0e32e <unknown>\n#10 0x577f9008700b <unknown>\n#11 0x577f9008af97 <unknown>\n#12 0x577f9007371c <unknown>\n#13 0x577f9008bb17 <unknown>\n#14 0x577f900586cf <unknown>\n#15 0x577f900a96b8 <unknown>\n#16 0x577f900a9880 <unknown>\n#17 0x577f900b9776 <unknown>\n#18 0x7f63dd49ca94 <unknown>\n#19 0x7f63dd529c3c <unknown>\n",
     "output_type": "error",
     "traceback": [
      "\u001b[0;31m---------------------------------------------------------------------------\u001b[0m",
      "\u001b[0;31mSessionNotCreatedException\u001b[0m                Traceback (most recent call last)",
      "Cell \u001b[0;32mIn[2], line 17\u001b[0m\n\u001b[1;32m     15\u001b[0m \u001b[38;5;66;03m# set path to chromedriver as per your configuration\u001b[39;00m\n\u001b[1;32m     16\u001b[0m chromedriver_autoinstaller\u001b[38;5;241m.\u001b[39minstall()\n\u001b[0;32m---> 17\u001b[0m driver \u001b[38;5;241m=\u001b[39m \u001b[43mwebdriver\u001b[49m\u001b[38;5;241;43m.\u001b[39;49m\u001b[43mChrome\u001b[49m\u001b[43m(\u001b[49m\u001b[43moptions\u001b[49m\u001b[38;5;241;43m=\u001b[39;49m\u001b[43mchrome_options\u001b[49m\u001b[43m)\u001b[49m\n\u001b[1;32m     18\u001b[0m driver\u001b[38;5;241m.\u001b[39mget(\u001b[38;5;124m\"\u001b[39m\u001b[38;5;124mhttps://lms.mipt.ru/\u001b[39m\u001b[38;5;124m\"\u001b[39m)\n",
      "File \u001b[0;32m~/Рабочий стол/infa_2024_nistratov_project_group/.venv/lib/python3.12/site-packages/selenium/webdriver/chrome/webdriver.py:45\u001b[0m, in \u001b[0;36mWebDriver.__init__\u001b[0;34m(self, options, service, keep_alive)\u001b[0m\n\u001b[1;32m     42\u001b[0m service \u001b[38;5;241m=\u001b[39m service \u001b[38;5;28;01mif\u001b[39;00m service \u001b[38;5;28;01melse\u001b[39;00m Service()\n\u001b[1;32m     43\u001b[0m options \u001b[38;5;241m=\u001b[39m options \u001b[38;5;28;01mif\u001b[39;00m options \u001b[38;5;28;01melse\u001b[39;00m Options()\n\u001b[0;32m---> 45\u001b[0m \u001b[38;5;28;43msuper\u001b[39;49m\u001b[43m(\u001b[49m\u001b[43m)\u001b[49m\u001b[38;5;241;43m.\u001b[39;49m\u001b[38;5;21;43m__init__\u001b[39;49m\u001b[43m(\u001b[49m\n\u001b[1;32m     46\u001b[0m \u001b[43m    \u001b[49m\u001b[43mbrowser_name\u001b[49m\u001b[38;5;241;43m=\u001b[39;49m\u001b[43mDesiredCapabilities\u001b[49m\u001b[38;5;241;43m.\u001b[39;49m\u001b[43mCHROME\u001b[49m\u001b[43m[\u001b[49m\u001b[38;5;124;43m\"\u001b[39;49m\u001b[38;5;124;43mbrowserName\u001b[39;49m\u001b[38;5;124;43m\"\u001b[39;49m\u001b[43m]\u001b[49m\u001b[43m,\u001b[49m\n\u001b[1;32m     47\u001b[0m \u001b[43m    \u001b[49m\u001b[43mvendor_prefix\u001b[49m\u001b[38;5;241;43m=\u001b[39;49m\u001b[38;5;124;43m\"\u001b[39;49m\u001b[38;5;124;43mgoog\u001b[39;49m\u001b[38;5;124;43m\"\u001b[39;49m\u001b[43m,\u001b[49m\n\u001b[1;32m     48\u001b[0m \u001b[43m    \u001b[49m\u001b[43moptions\u001b[49m\u001b[38;5;241;43m=\u001b[39;49m\u001b[43moptions\u001b[49m\u001b[43m,\u001b[49m\n\u001b[1;32m     49\u001b[0m \u001b[43m    \u001b[49m\u001b[43mservice\u001b[49m\u001b[38;5;241;43m=\u001b[39;49m\u001b[43mservice\u001b[49m\u001b[43m,\u001b[49m\n\u001b[1;32m     50\u001b[0m \u001b[43m    \u001b[49m\u001b[43mkeep_alive\u001b[49m\u001b[38;5;241;43m=\u001b[39;49m\u001b[43mkeep_alive\u001b[49m\u001b[43m,\u001b[49m\n\u001b[1;32m     51\u001b[0m \u001b[43m\u001b[49m\u001b[43m)\u001b[49m\n",
      "File \u001b[0;32m~/Рабочий стол/infa_2024_nistratov_project_group/.venv/lib/python3.12/site-packages/selenium/webdriver/chromium/webdriver.py:66\u001b[0m, in \u001b[0;36mChromiumDriver.__init__\u001b[0;34m(self, browser_name, vendor_prefix, options, service, keep_alive)\u001b[0m\n\u001b[1;32m     57\u001b[0m executor \u001b[38;5;241m=\u001b[39m ChromiumRemoteConnection(\n\u001b[1;32m     58\u001b[0m     remote_server_addr\u001b[38;5;241m=\u001b[39m\u001b[38;5;28mself\u001b[39m\u001b[38;5;241m.\u001b[39mservice\u001b[38;5;241m.\u001b[39mservice_url,\n\u001b[1;32m     59\u001b[0m     browser_name\u001b[38;5;241m=\u001b[39mbrowser_name,\n\u001b[0;32m   (...)\u001b[0m\n\u001b[1;32m     62\u001b[0m     ignore_proxy\u001b[38;5;241m=\u001b[39moptions\u001b[38;5;241m.\u001b[39m_ignore_local_proxy,\n\u001b[1;32m     63\u001b[0m )\n\u001b[1;32m     65\u001b[0m \u001b[38;5;28;01mtry\u001b[39;00m:\n\u001b[0;32m---> 66\u001b[0m     \u001b[38;5;28;43msuper\u001b[39;49m\u001b[43m(\u001b[49m\u001b[43m)\u001b[49m\u001b[38;5;241;43m.\u001b[39;49m\u001b[38;5;21;43m__init__\u001b[39;49m\u001b[43m(\u001b[49m\u001b[43mcommand_executor\u001b[49m\u001b[38;5;241;43m=\u001b[39;49m\u001b[43mexecutor\u001b[49m\u001b[43m,\u001b[49m\u001b[43m \u001b[49m\u001b[43moptions\u001b[49m\u001b[38;5;241;43m=\u001b[39;49m\u001b[43moptions\u001b[49m\u001b[43m)\u001b[49m\n\u001b[1;32m     67\u001b[0m \u001b[38;5;28;01mexcept\u001b[39;00m \u001b[38;5;167;01mException\u001b[39;00m:\n\u001b[1;32m     68\u001b[0m     \u001b[38;5;28mself\u001b[39m\u001b[38;5;241m.\u001b[39mquit()\n",
      "File \u001b[0;32m~/Рабочий стол/infa_2024_nistratov_project_group/.venv/lib/python3.12/site-packages/selenium/webdriver/remote/webdriver.py:241\u001b[0m, in \u001b[0;36mWebDriver.__init__\u001b[0;34m(self, command_executor, keep_alive, file_detector, options, locator_converter, web_element_cls, client_config)\u001b[0m\n\u001b[1;32m    239\u001b[0m \u001b[38;5;28mself\u001b[39m\u001b[38;5;241m.\u001b[39m_authenticator_id \u001b[38;5;241m=\u001b[39m \u001b[38;5;28;01mNone\u001b[39;00m\n\u001b[1;32m    240\u001b[0m \u001b[38;5;28mself\u001b[39m\u001b[38;5;241m.\u001b[39mstart_client()\n\u001b[0;32m--> 241\u001b[0m \u001b[38;5;28;43mself\u001b[39;49m\u001b[38;5;241;43m.\u001b[39;49m\u001b[43mstart_session\u001b[49m\u001b[43m(\u001b[49m\u001b[43mcapabilities\u001b[49m\u001b[43m)\u001b[49m\n\u001b[1;32m    242\u001b[0m \u001b[38;5;28mself\u001b[39m\u001b[38;5;241m.\u001b[39m_fedcm \u001b[38;5;241m=\u001b[39m FedCM(\u001b[38;5;28mself\u001b[39m)\n\u001b[1;32m    244\u001b[0m \u001b[38;5;28mself\u001b[39m\u001b[38;5;241m.\u001b[39m_websocket_connection \u001b[38;5;241m=\u001b[39m \u001b[38;5;28;01mNone\u001b[39;00m\n",
      "File \u001b[0;32m~/Рабочий стол/infa_2024_nistratov_project_group/.venv/lib/python3.12/site-packages/selenium/webdriver/remote/webdriver.py:329\u001b[0m, in \u001b[0;36mWebDriver.start_session\u001b[0;34m(self, capabilities)\u001b[0m\n\u001b[1;32m    322\u001b[0m \u001b[38;5;250m\u001b[39m\u001b[38;5;124;03m\"\"\"Creates a new session with the desired capabilities.\u001b[39;00m\n\u001b[1;32m    323\u001b[0m \n\u001b[1;32m    324\u001b[0m \u001b[38;5;124;03m:Args:\u001b[39;00m\n\u001b[1;32m    325\u001b[0m \u001b[38;5;124;03m - capabilities - a capabilities dict to start the session with.\u001b[39;00m\n\u001b[1;32m    326\u001b[0m \u001b[38;5;124;03m\"\"\"\u001b[39;00m\n\u001b[1;32m    328\u001b[0m caps \u001b[38;5;241m=\u001b[39m _create_caps(capabilities)\n\u001b[0;32m--> 329\u001b[0m response \u001b[38;5;241m=\u001b[39m \u001b[38;5;28;43mself\u001b[39;49m\u001b[38;5;241;43m.\u001b[39;49m\u001b[43mexecute\u001b[49m\u001b[43m(\u001b[49m\u001b[43mCommand\u001b[49m\u001b[38;5;241;43m.\u001b[39;49m\u001b[43mNEW_SESSION\u001b[49m\u001b[43m,\u001b[49m\u001b[43m \u001b[49m\u001b[43mcaps\u001b[49m\u001b[43m)\u001b[49m[\u001b[38;5;124m\"\u001b[39m\u001b[38;5;124mvalue\u001b[39m\u001b[38;5;124m\"\u001b[39m]\n\u001b[1;32m    330\u001b[0m \u001b[38;5;28mself\u001b[39m\u001b[38;5;241m.\u001b[39msession_id \u001b[38;5;241m=\u001b[39m response\u001b[38;5;241m.\u001b[39mget(\u001b[38;5;124m\"\u001b[39m\u001b[38;5;124msessionId\u001b[39m\u001b[38;5;124m\"\u001b[39m)\n\u001b[1;32m    331\u001b[0m \u001b[38;5;28mself\u001b[39m\u001b[38;5;241m.\u001b[39mcaps \u001b[38;5;241m=\u001b[39m response\u001b[38;5;241m.\u001b[39mget(\u001b[38;5;124m\"\u001b[39m\u001b[38;5;124mcapabilities\u001b[39m\u001b[38;5;124m\"\u001b[39m)\n",
      "File \u001b[0;32m~/Рабочий стол/infa_2024_nistratov_project_group/.venv/lib/python3.12/site-packages/selenium/webdriver/remote/webdriver.py:384\u001b[0m, in \u001b[0;36mWebDriver.execute\u001b[0;34m(self, driver_command, params)\u001b[0m\n\u001b[1;32m    382\u001b[0m response \u001b[38;5;241m=\u001b[39m \u001b[38;5;28mself\u001b[39m\u001b[38;5;241m.\u001b[39mcommand_executor\u001b[38;5;241m.\u001b[39mexecute(driver_command, params)\n\u001b[1;32m    383\u001b[0m \u001b[38;5;28;01mif\u001b[39;00m response:\n\u001b[0;32m--> 384\u001b[0m     \u001b[38;5;28;43mself\u001b[39;49m\u001b[38;5;241;43m.\u001b[39;49m\u001b[43merror_handler\u001b[49m\u001b[38;5;241;43m.\u001b[39;49m\u001b[43mcheck_response\u001b[49m\u001b[43m(\u001b[49m\u001b[43mresponse\u001b[49m\u001b[43m)\u001b[49m\n\u001b[1;32m    385\u001b[0m     response[\u001b[38;5;124m\"\u001b[39m\u001b[38;5;124mvalue\u001b[39m\u001b[38;5;124m\"\u001b[39m] \u001b[38;5;241m=\u001b[39m \u001b[38;5;28mself\u001b[39m\u001b[38;5;241m.\u001b[39m_unwrap_value(response\u001b[38;5;241m.\u001b[39mget(\u001b[38;5;124m\"\u001b[39m\u001b[38;5;124mvalue\u001b[39m\u001b[38;5;124m\"\u001b[39m, \u001b[38;5;28;01mNone\u001b[39;00m))\n\u001b[1;32m    386\u001b[0m     \u001b[38;5;28;01mreturn\u001b[39;00m response\n",
      "File \u001b[0;32m~/Рабочий стол/infa_2024_nistratov_project_group/.venv/lib/python3.12/site-packages/selenium/webdriver/remote/errorhandler.py:232\u001b[0m, in \u001b[0;36mErrorHandler.check_response\u001b[0;34m(self, response)\u001b[0m\n\u001b[1;32m    230\u001b[0m         alert_text \u001b[38;5;241m=\u001b[39m value[\u001b[38;5;124m\"\u001b[39m\u001b[38;5;124malert\u001b[39m\u001b[38;5;124m\"\u001b[39m]\u001b[38;5;241m.\u001b[39mget(\u001b[38;5;124m\"\u001b[39m\u001b[38;5;124mtext\u001b[39m\u001b[38;5;124m\"\u001b[39m)\n\u001b[1;32m    231\u001b[0m     \u001b[38;5;28;01mraise\u001b[39;00m exception_class(message, screen, stacktrace, alert_text)  \u001b[38;5;66;03m# type: ignore[call-arg]  # mypy is not smart enough here\u001b[39;00m\n\u001b[0;32m--> 232\u001b[0m \u001b[38;5;28;01mraise\u001b[39;00m exception_class(message, screen, stacktrace)\n",
      "\u001b[0;31mSessionNotCreatedException\u001b[0m: Message: session not created: DevToolsActivePort file doesn't exist\nStacktrace:\n#0 0x577f900ba8fa <unknown>\n#1 0x577f8fbcbd20 <unknown>\n#2 0x577f8fc08664 <unknown>\n#3 0x577f8fc039fb <unknown>\n#4 0x577f8fbfef96 <unknown>\n#5 0x577f8fc4ad86 <unknown>\n#6 0x577f8fc4a3d6 <unknown>\n#7 0x577f8fc3e893 <unknown>\n#8 0x577f8fc0d30d <unknown>\n#9 0x577f8fc0e32e <unknown>\n#10 0x577f9008700b <unknown>\n#11 0x577f9008af97 <unknown>\n#12 0x577f9007371c <unknown>\n#13 0x577f9008bb17 <unknown>\n#14 0x577f900586cf <unknown>\n#15 0x577f900a96b8 <unknown>\n#16 0x577f900a9880 <unknown>\n#17 0x577f900b9776 <unknown>\n#18 0x7f63dd49ca94 <unknown>\n#19 0x7f63dd529c3c <unknown>\n"
     ]
    }
   ],
   "source": [
    "%pip install chromedriver-autoinstaller selenium\n",
    "\n",
    "import sys\n",
    "sys.path.insert(0,'/usr/lib/chromium-browser/chromedriver')\n",
    "from selenium.webdriver.common.by import By\n",
    "import time\n",
    "from selenium import webdriver\n",
    "import chromedriver_autoinstaller\n",
    "\n",
    "# setup chrome options\n",
    "chrome_options = webdriver.ChromeOptions()\n",
    "chrome_options.add_argument('--no-sandbox')\n",
    "chrome_options.add_argument('--disable-dev-shm-usage')\n",
    "\n",
    "# set path to chromedriver as per your configuration\n",
    "chromedriver_autoinstaller.install()\n",
    "driver = webdriver.Chrome(options=chrome_options)\n",
    "driver.get(\"https://lms.mipt.ru/\")"
   ]
  },
  {
   "cell_type": "markdown",
   "metadata": {},
   "source": [
    "# Parse answers from ans.csv"
   ]
  },
  {
   "cell_type": "code",
   "execution_count": null,
   "metadata": {},
   "outputs": [],
   "source": [
    "import csv\n",
    "from collections import defaultdict\n",
    "\n",
    "data_dict = defaultdict(list)\n",
    "data_dict_all = defaultdict(list)\n",
    "\n",
    "def is_english_letter(char):\n",
    "    return 'a' <= char <= 'z'\n",
    "\n",
    "# Trims a. b. c. d. from text beginning\n",
    "def myTrim(value):\n",
    "    if (len(value) > 3 and is_english_letter(value[0]) and value[1] == '.' and value[2] == ' '):\n",
    "            value = value[3:]\n",
    "    return value\n",
    "\n",
    "with open('ans.csv', 'r', encoding='utf-8') as f:\n",
    "    csv_reader = csv.reader(f)\n",
    "    \n",
    "    next(csv_reader, None) \n",
    "    \n",
    "    for row in csv_reader:\n",
    "        key = row[0].strip()\n",
    "        value = myTrim(row[1].strip())\n",
    "        if (len(value) > 0 and value[0].isalnum()):\n",
    "            data_dict[key].append(value)\n",
    "        data_dict_all[key].append(value)"
   ]
  },
  {
   "cell_type": "markdown",
   "metadata": {},
   "source": [
    "# Solve test currently open in the browser"
   ]
  },
  {
   "cell_type": "code",
   "execution_count": null,
   "metadata": {},
   "outputs": [],
   "source": [
    "def children(elem):\n",
    "    return elem.find_elements(By.XPATH, './*')\n",
    "\n",
    "def move_to_next_question():\n",
    "    time.sleep(0.1)\n",
    "    button = driver.find_element(By.XPATH, '//*[@name=\"next\"]')\n",
    "    if button.get_attribute('value') == 'Следующая страница':\n",
    "        button.click()\n",
    "        driver.implicitly_wait(4)    \n",
    "        return True        \n",
    "    else:\n",
    "        return False\n",
    "\n",
    "def solve():\n",
    "    prompt = driver.find_element(By.XPATH, '//*[@class=\"qtext\"]').text.strip()\n",
    "\n",
    "    print(prompt)\n",
    "    answersElem = driver.find_element(By.XPATH, '//*[@class=\"answer\"]')\n",
    "    childrenElem = answersElem.find_elements(By.XPATH, './*')  \n",
    "\n",
    "    answers = [myTrim(answer.text.strip()) for answer in childrenElem]\n",
    "\n",
    "\n",
    "    if prompt in data_dict:\n",
    "        corrAns = data_dict[prompt]\n",
    "        \n",
    "        # Check if there is enough confidence to answer the question\n",
    "        cnt = 0\n",
    "        for i in range(len(answers)):\n",
    "            ans = answers[i]\n",
    "            \n",
    "            if ans in corrAns:\n",
    "                if (cnt != 0):\n",
    "                    print('multipleAnswersFound')\n",
    "                cnt+=1  \n",
    "                if (('*' + ans) in data_dict_all[prompt]):\n",
    "                    print('incorrectFound')\n",
    "                    cnt = 5\n",
    "        if cnt != 1:\n",
    "            print(data_dict_all[prompt])\n",
    "            for ans in answers:\n",
    "                print('correct:',data_dict[prompt].count(ans),'incorrect:', data_dict_all[prompt].count('*' + ans),ans)\n",
    "\n",
    "        else:\n",
    "            for i in range(len(answers)):\n",
    "                ans = answers[i]\n",
    "                if ans in corrAns:\n",
    "                    print('found')\n",
    "                    driver.execute_script(\"arguments[0].style.color = 'red';\", childrenElem[i])\n",
    "                    children(childrenElem[i])[0].click()\n",
    "    else:\n",
    "        print(\"err\")\n",
    "\n",
    "while True:\n",
    "    solve()\n",
    "    if not move_to_next_question():\n",
    "        break\n"
   ]
  },
  {
   "cell_type": "code",
   "execution_count": null,
   "metadata": {},
   "outputs": [],
   "source": []
  }
 ],
 "metadata": {
  "kernelspec": {
   "display_name": "Python 3 (ipykernel)",
   "language": "python",
   "name": "python3"
  },
  "language_info": {
   "codemirror_mode": {
    "name": "ipython",
    "version": 3
   },
   "file_extension": ".py",
   "mimetype": "text/x-python",
   "name": "python",
   "nbconvert_exporter": "python",
   "pygments_lexer": "ipython3",
   "version": "3.12.3"
  }
 },
 "nbformat": 4,
 "nbformat_minor": 4
}
