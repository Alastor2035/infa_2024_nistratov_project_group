{
 "cells": [
  {
   "cell_type": "markdown",
   "metadata": {
    "id": "_Bs1ml_GTaHT"
   },
   "source": [
    "## Задача №1: Подгонка кривой температурных данных\n",
    "\n",
    "Экстремумы температуры на Аляске для каждого месяца, начиная с января, определяются следующим образом (в градусах Цельсия):"
   ]
  },
  {
   "cell_type": "markdown",
   "metadata": {
    "id": "eM4nk-ZGUFb2"
   },
   "source": [
    "| max: | 17  | 19  | 21  | 28  | 33  | 38  | 37 | 37  | 31  | 23  | 19  | 18  |\n",
    "|------|-----|-----|-----|-----|-----|-----|----|-----|-----|-----|-----|-----|\n",
    "| min: | -62 | -59 | -56 | -46 | -32 | -18 | -9 | -13 | -25 | -46 | -52 | -58 |"
   ]
  },
  {
   "cell_type": "markdown",
   "metadata": {
    "id": "OPbTjhH4U1NX"
   },
   "source": [
    "1. Постройте график этих температурных экстремумов.\n",
    "\n",
    "2. Определите функцию, которая может описывать минимальные и максимальные температуры. **Подсказка:** эта функция должна иметь период 1 год. **Подсказка:** включите смещение по времени.\n",
    "\n",
    "3. Подгоните эту функцию к данным с помощью **scipy.optimize.curve_fit()**.\n",
    "\n",
    "4. Постройте график результата. Является ли соответствие обоснованным? Если нет, то почему?\n",
    "\n",
    "5. Является ли смещение по времени для минимальных и максимальных температур одинаковым в пределах точности подгонки?"
   ]
  },
  {
   "cell_type": "code",
   "execution_count": 28,
   "metadata": {
    "id": "44T55faHqXLf"
   },
   "outputs": [
    {
     "data": {
      "image/png": "[encoded data removed]",
      "text/plain": [
       "<Figure size 640x480 with 1 Axes>"
      ]
     },
     "metadata": {},
     "output_type": "display_data"
    }
   ],
   "source": [
    "import pandas as pd\n",
    "import matplotlib.pyplot as plt\n",
    "import scipy as sp\n",
    "import numpy as np\n",
    "totemp = pd.read_csv('temperatures.csv')\n",
    "file = open('temperatures.csv')\n",
    "tototemp =  file.readlines()\n",
    "totemp = {}\n",
    "for i in tototemp:\n",
    "    pre = i.split(';')\n",
    "    if pre[0][0] != 'm':\n",
    "        pre[0] = pre[0][1:]\n",
    "    totemp[pre[0][:-1]] = list(map(int, pre[1:]))\n",
    "x_data = np.linspace(1, 12, num=12)\n",
    "plt.xlabel(\"месяц\", fontsize=14, fontweight=\"bold\")\n",
    "plt.ylabel(\"температура\", fontsize=14, fontweight=\"bold\")\n",
    "plt.plot(x_data, temp['max'], \".\", label=\"max\")\n",
    "plt.plot(x_data, temp['min'], \".\", label=\"min\")\n",
    "plt.legend()\n",
    "plt.show()"
   ]
  },
  {
   "cell_type": "markdown",
   "metadata": {
    "id": "U7Swol1tVONn"
   },
   "source": [
    "## Задача №2: 2-D минимизация  \n"
   ]
  },
  {
   "cell_type": "markdown",
   "metadata": {
    "id": "uA1I6LWoWRxj"
   },
   "source": [
    "$f(x, y) = (4-2.1x^{2} + \\frac{x^{4}}{3})x^{2} + xy + (4y^{2} - 4)y^{2}$"
   ]
  },
  {
   "cell_type": "markdown",
   "metadata": {
    "id": "RfInQ7EQWjHQ"
   },
   "source": [
    "f(x, y) имеет несколько локальных минимумов. Найдите глобальный минимум (их больше одного, каждый с одинаковым значением целевой функции) и по крайней мере один другой локальный минимум.\n",
    "А также построить 2D и 3D графики функции.\n",
    "\n",
    "*Подсказки:*   \n",
    "1) Переменные могут быть ограничены $-2 < x < 2$, а также  $-1 < y < 1$  \n",
    "2) **numpy.meshgrid()** и **matplotlib.pyplot.imshow()** могут помочь с визуализацией.  \n",
    "3) Попробуйте минимизировать с помощью **scipy.optimize.minimize()** с первоначальным предположением $(x, y) = (0, 0)$.   \n",
    "Находит ли он глобальный минимум или сходится к локальному минимуму? А как насчет других начальных догадок?  \n",
    "4) Попробуйте минимизировать с помощью **scipy.optimize.differential_evolution()**.\n"
   ]
  },
  {
   "cell_type": "code",
   "execution_count": null,
   "metadata": {
    "id": "TejS7fdaWRau"
   },
   "outputs": [],
   "source": [
    "#You can do it!"
   ]
  },
  {
   "cell_type": "markdown",
   "metadata": {
    "id": "0s1OGSloZB39"
   },
   "source": [
    "## Задача №3:  Подотрезок с максимальной суммой   \n",
    "\n",
    "Реализуйте функцию find_max_sum_segment, выполняющую поиск подотрезка длины **к** с максимальной суммой в целочисленном массиве **аггау**. Функция должна возвращать максимальное значение суммы. Например, у массива **аггаy** = [5, 3, -6, 1] есть 3 подотрезка длины к = 2 с суммами [8, -3, -5] соответственно, в этом случае функция должна вернуть число 8.\n",
    "\n",
    "В реализации разрешается создавать объекты размерности два. Запрещается использовать циклы, а также готовую функцию пр.cumsum.\n",
    "\n",
    "*Подсказка*: Задачу можно решать разными способами. Можно обратить внимание на функции для генерации треугольных матриц в пакете numpy и воспользоваться векторно-арифметическими операциями. Можно попробовать сделать специальную бинарную матрицу и также воспользоваться векторно-арифметическими операциями, включая матричные операции."
   ]
  },
  {
   "cell_type": "code",
   "execution_count": null,
   "metadata": {
    "id": "7Psk2FKsVLZ2"
   },
   "outputs": [],
   "source": [
    "#Шаблон решения:\n",
    "import numpy as np\n",
    "#import typing as tp\n",
    "\n",
    "def find_max_sum_segment (array: tp.List[int], k: int) -> int:\n",
    "  return ..."
   ]
  },
  {
   "cell_type": "markdown",
   "metadata": {
    "id": "STP1i0_2aTcb"
   },
   "source": [
    "## Задача № 4: Ближайшие соседи"
   ]
  },
  {
   "cell_type": "markdown",
   "metadata": {
    "id": "ZV0OmyzyaK8m"
   },
   "source": [
    "Допустим, вам необходимо разработать автоматический классификатор, который умеет различать котиков от песиков. Как его реализовать? Можно посмотреть на характеристики каждого животного: вес, длина хвостика, объем туловища, а можно посмотреть и на фотографию. Тем самым для животного получится некоторый вектор $x \\in \\mathbb{R}^{d}$. Давайте сравним этот вектор с другими векторами котиков и песиков, которых мы видели ранее. Если вектор окажется ближе к котикам, то мы скажем, что перед нами котик, иначе песик.\n",
    "\n",
    "Обычно среди всего множества известных нам котиков и песиков берут $k$ штук, для которых соответствующие им векторы лежат ближе всего к нашему вектору $x$. Эти $k$ штук векторов называются ближайшими соседями. Можете подумать, почему часто плохо брать $k = 1$.\n",
    "\n",
    "К самой классификации мы перейдем позже, а сейчас давайте закрепим навык поиска ближайших соседей. Реализуйте функцию **find_nearest_points**, выполняющую поиск $k$ ближайших соседей точек из множества $B$ среди точек из множества $A$. На вход функции подаётся  \n",
    "*  матрица $A$ размерности $n \\times d$,\n",
    "\n",
    "*  матрица в размерности $m \\times d$,\n",
    "\n",
    "*  число $k$ - количество соседей.\n",
    "\n",
    "В матрице $A$ по строкам записаны $n$ точек из пространства $\\mathbb{R}^{d}$,\n",
    "аналогично описаны $m$ точек в матрице $B$. Функция **find_nearest_points** должна возвращать матрицу $C$ размерности $m \\times k$, каждая строка $j $ $(1≤ j ≤ m)$ которой состоит из $k$ индексов $р_{ji}$ $(1 ≤ p_{ji} ≤ n, 1 ≤ i ≤ k)$ ближайших точек из $A$ к точке $B_{j}$, (по евклидовой метрике).\n",
    "\n",
    "Шаблон решения:\n",
    "\n"
   ]
  },
  {
   "cell_type": "code",
   "execution_count": null,
   "metadata": {
    "id": "kR4r4zwMaKpV"
   },
   "outputs": [],
   "source": [
    "import numpy as np\n",
    "#import typing as tp\n",
    "\n",
    "def find_nearest_points (A: np.ndarray, B: np.ndarray, k: int) return np.ndarray:\n",
    "  return ...\n"
   ]
  },
  {
   "cell_type": "markdown",
   "metadata": {
    "id": "zsZAO1LfemEe"
   },
   "source": [
    "Рассмотрим следующий пример:"
   ]
  },
  {
   "cell_type": "code",
   "execution_count": null,
   "metadata": {
    "id": "-Wl8_bb5aV41"
   },
   "outputs": [],
   "source": [
    ">>> A = np.array([ [0, 0],\n",
    "                   [1, 0],\n",
    "                   [2, 0]])\n",
    "\n",
    ">>> B = np.array([ [0, 1],\n",
    "                   [2, 1]])\n",
    "\n",
    ">>> find_nearest_points (A, B, 2)\n",
    "array([[1, 2],\n",
    "       [3, 2]])"
   ]
  },
  {
   "cell_type": "markdown",
   "metadata": {
    "id": "OoFbAkBigb0V"
   },
   "source": [
    "Для точки (0,1) ближайшей из списка точек л является точка\n",
    "\n",
    "(0,0), которая имеет индекс 1 (в данной задаче индексация\n",
    "\n",
    "точек начинается с 1). Второй по расстоянию будет точка\n",
    "\n",
    "(1,0) с индексом 2, поэтому первая строчка матрицы, которая получена в результате работы функции, равна 1,4"
   ]
  },
  {
   "cell_type": "markdown",
   "metadata": {
    "id": "cHaO1L4iaWZ6"
   },
   "source": [
    "## Задача №5: Матричное перемножение  \n",
    "\n",
    "Напишите функцию, реализующую матричное умножение. Для этого реализуйте функцию **matrix_multiplication.**\n",
    "\n",
    "При вычислении разрешается создавать объекты размерности три и **использовать только**:\n",
    "\n",
    "* простые стандартными поэлементными векторно-арифметическими операциями над numpy.array (поэлементная сумма, поэлементное произведение и т.д.)\n",
    "\n",
    "* стандартные агрегирующие арифметические операции над numpy.array (например, сумма вдоль оси)\n",
    "\n",
    "* любые операциями изменения формы массива (например, транспонирование, добавление осей).\n",
    "\n",
    "**Запрещается пользоваться:**\n",
    "\n",
    "* циклами\n",
    "\n",
    "* функциями, реализующими матричное умножение, например, пumpy.dot, операция @, операция умножения в классе numpy.matrix, суммы Эйнштейна и прочие.\n",
    "\n",
    "* функциями вида map, apply\n",
    "\n",
    "* функциями вида fromfunction, apply_along_axis  \n",
    "\n",
    "Использовать библиотеки, которых нет в шаблоне, запрещается.  \n",
    "Шаблон решения:"
   ]
  },
  {
   "cell_type": "code",
   "execution_count": null,
   "metadata": {
    "id": "BgegCPBWaYo1"
   },
   "outputs": [],
   "source": [
    "import numpy as np\n",
    "#import typing as tp\n",
    "\n",
    "def matrix_multiplication(A: np.ndarray, B: np.ndarray) -> np.ndarray\n",
    "  return ..."
   ]
  },
  {
   "cell_type": "markdown",
   "metadata": {
    "id": "_1PeLdGs2f3F"
   },
   "source": [
    "## Задача №6: Упражнение по обработке изображений - нерасплавленные зерна в стекле"
   ]
  },
  {
   "cell_type": "markdown",
   "metadata": {
    "id": "X9N65sH03LCG"
   },
   "source": [
    "1) Откройте файл изображения MV_HFV_012.jpg и отобразите его. Просмотрите ключевые аргументы в строке документации imshow, чтобы отобразить изображение с «правильной» ориентацией (начало координат в нижнем левом углу, а не в верхнем левом углу, как для стандартных массивов).\n",
    "\n",
    "2) Это изображение сканирующей элементной микроскопии показывает образец стекла (светло-серая матрица) с несколькими пузырьками (на черном) и нерасплавленными песчинками (темно-серыми). Мы хотим определить долю образца, покрытую этими тремя фазами, и оценить типичный размер песчинок и пузырьков, их размеры и т. д.\n",
    "\n",
    "3) Обрежьте изображение, чтобы удалить нижнюю панель с информацией об измерениях.\n",
    "\n",
    "4) Слегка отфильтруйте изображение с помощью медианного фильтра, чтобы уточнить его гистограмму. Проверьте, как изменится гистограмма.\n",
    "\n",
    "5) Используя гистограмму отфильтрованного изображения, определите пороговые значения, которые позволяют определять маски для пикселей песка, пикселей стекла и пикселей пузырьков.\n",
    "\n",
    "6) Покажите изображение, на котором три фазы окрашены тремя разными цветами.\n",
    "\n",
    "7) Используйте математическую морфологию для очистки различных фаз.\n",
    "\n",
    "8) Присвойте метки всем пузырькам и песчинкам и удалите из маски песка песчинки, которые меньше 10 пикселей. Для этого используйте ndimage.sum или np.bincount для вычисления размеров песчинок.\n",
    "\n",
    "9) Вычислите средний размер пузырьков."
   ]
  },
  {
   "cell_type": "code",
   "execution_count": null,
   "metadata": {
    "id": "Lb2cbMtY4NGf"
   },
   "outputs": [],
   "source": [
    "import numpy as np\n",
    "import matplotlib.pyplot as plt\n",
    "import scipy as sp"
   ]
  },
  {
   "cell_type": "code",
   "execution_count": null,
   "metadata": {
    "id": "qXKRExuA2xFn"
   },
   "outputs": [],
   "source": [
    "dat = plt.imread('data/MV_HFV_012.jpg')"
   ]
  },
  {
   "cell_type": "markdown",
   "metadata": {
    "id": "dRIq4gKd4Xe3"
   },
   "source": [
    "Подсказка к пункту 7:"
   ]
  },
  {
   "cell_type": "code",
   "execution_count": null,
   "metadata": {
    "id": "LfSAgRRQ4Jbk"
   },
   "outputs": [],
   "source": [
    "sand_op = sp.ndimage.binary_opening(sand, iterations=2)"
   ]
  }
 ],
 "metadata": {
  "colab": {
   "provenance": []
  },
  "kernelspec": {
   "display_name": "Python 3 (ipykernel)",
   "language": "python",
   "name": "python3"
  },
  "language_info": {
   "codemirror_mode": {
    "name": "ipython",
    "version": 3
   },
   "file_extension": ".py",
   "mimetype": "text/x-python",
   "name": "python",
   "nbconvert_exporter": "python",
   "pygments_lexer": "ipython3",
   "version": "3.12.4"
  }
 },
 "nbformat": 4,
 "nbformat_minor": 4
}
