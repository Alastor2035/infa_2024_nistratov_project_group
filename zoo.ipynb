{
 "cells": [
  {
   "cell_type": "code",
   "execution_count": 10,
   "id": "bab38316-4799-44fe-bb7c-83756034db80",
   "metadata": {},
   "outputs": [
    {
     "name": "stdout",
     "output_type": "stream",
     "text": [
      "Животное добавлено в зоопарк.\n",
      "Животное добавлено в зоопарк.\n",
      "Животное добавлено в зоопарк.\n",
      "Животное добавлено в зоопарк.\n",
      "Добро пожаловать в зоопарк \"Happy friends\"!\n",
      "1. Добавить животное.\n",
      "2. Удалить животное.\n",
      "3. Покормить всех животных.\n",
      "4. Показать список всез животных.\n",
      "5. Выйти.\n"
     ]
    },
    {
     "name": "stdout",
     "output_type": "stream",
     "text": [
      "Выберите действие:  4\n"
     ]
    },
    {
     "name": "stdout",
     "output_type": "stream",
     "text": [
      "Список Животных:\n",
      "Имя: Yaric, Вид: Homo Sapiens Sapiens, Возраст: 18, Голоден: True\n",
      "Имя: Sherhan, Вид: Tigr, Возраст: 5, Голоден: True\n",
      "Имя: Leo, Вид: Lion, Возраст: 9, Голоден: True\n",
      "Имя: Giro, Вид: Giraffe, Возраст: 7, Голоден: True\n"
     ]
    },
    {
     "name": "stdout",
     "output_type": "stream",
     "text": [
      "Выберите действие:  5\n"
     ]
    },
    {
     "name": "stdout",
     "output_type": "stream",
     "text": [
      "Осуществляется выход\n"
     ]
    }
   ],
   "source": [
    "class Animal:\n",
    "\n",
    "    def __init__(self, name, species, age, is_hungry = True):\n",
    "        self.__name = name\n",
    "        self.__species = species\n",
    "        self.__age = age\n",
    "        self.__is_hungry = is_hungry\n",
    "\n",
    "    def feed(self):\n",
    "        self.__is_hungry = False\n",
    "        print(f\"Животное {self.__name} накормлено.\")\n",
    "\n",
    "    def info(self):\n",
    "        return f\"Имя: {self.__name}, Вид: {self.__species}, Возраст: {self.__age}, Голоден: {self.__is_hungry}\"\n",
    "    \n",
    "    def get_name(self):\n",
    "        return self.__name\n",
    "    \n",
    "    def get_hungry(self):\n",
    "        return self.__is_hungry\n",
    "    \n",
    "class Zoo:\n",
    "\n",
    "    def __init__(self, name):\n",
    "        self.name = name\n",
    "        self.__animals = []\n",
    "\n",
    "    def add_animal(self, animal):\n",
    "        have = False\n",
    "        new_name = animal.get_name()\n",
    "        for ani in self.__animals:\n",
    "            if new_name == ani.get_name():\n",
    "                have = True\n",
    "                break\n",
    "        if have:\n",
    "            print(\"Животное с таким именем уже есть в зоопарке.\")\n",
    "        else:\n",
    "            self.__animals.append(animal)\n",
    "            print(\"Животное добавлено в зоопарк.\")\n",
    "\n",
    "\n",
    "    def remove_animal(self, name):\n",
    "        have = False\n",
    "        for ani in self.__animals:\n",
    "            if name == ani.get_name():\n",
    "                self.__animals.pop(self.__animals.index(ani))\n",
    "                have = True\n",
    "                break\n",
    "        if have:\n",
    "            print(\"Животное удалено из зоопарка.\")\n",
    "        else:\n",
    "            print(\"Такого животного в зоопарке нет.\")\n",
    "\n",
    "    def feed_all(self):\n",
    "        for ani in self.__animals:\n",
    "            if ani.get_hungry():\n",
    "                ani.feed()\n",
    "        print(\"Все животные накормлены.\")\n",
    "    \n",
    "    def list_animals(self):\n",
    "        print(\"Список Животных:\")\n",
    "        for ani in self.__animals:\n",
    "            print(ani.info())\n",
    "\n",
    "    def menu(self):\n",
    "        running = True\n",
    "        print(f\"\"\"Добро пожаловать в зоопарк \"{self.name}\"!\"\"\")\n",
    "        print(\"1. Добавить животное.\")\n",
    "        print(\"2. Удалить животное.\")\n",
    "        print(\"3. Покормить всех животных.\")\n",
    "        print(\"4. Показать список всез животных.\")\n",
    "        print(\"5. Выйти.\")\n",
    "        while running:\n",
    "            action = int(input(\"Выберите действие: \"))\n",
    "            if action == 1:\n",
    "                name = input(\"Введите имя животного: \")\n",
    "                species = input(\"Введите вид животного: \")\n",
    "                age = input(\"Введите возраст животного: \")\n",
    "                self.add_animal(Animal(name, species, age))\n",
    "            elif action == 2:\n",
    "                name = input(\"Введите имя животного: \")\n",
    "                self.remove_animal(name)\n",
    "            elif action == 3:\n",
    "                self.feed_all()\n",
    "            elif action == 4:\n",
    "                self.list_animals()\n",
    "            elif action == 5:\n",
    "                print(\"Осуществляется выход\")\n",
    "                running = False\n",
    "            else:\n",
    "                print(\"Некорректный выбор\")\n",
    "        \n",
    "    \n",
    "\n",
    "\n",
    "\n",
    "zoo = Zoo(\"Happy friends\")\n",
    "a = Animal(\"Yaric\", \"Homo Sapiens Sapiens\", 18)\n",
    "tigr = Animal(\"Sherhan\", \"Tigr\", 5)\n",
    "lio = Animal(\"Leo\", \"Lion\", 9)\n",
    "giraffe = Animal(\"Giro\", \"Giraffe\", 7)\n",
    "zoo.add_animal(a)\n",
    "zoo.add_animal(tigr)\n",
    "zoo.add_animal(lio)\n",
    "zoo.add_animal(giraffe)\n",
    "zoo.menu()"
   ]
  }
 ],
 "metadata": {
  "kernelspec": {
   "display_name": "base",
   "language": "python",
   "name": "python3"
  },
  "language_info": {
   "codemirror_mode": {
    "name": "ipython",
    "version": 3
   },
   "file_extension": ".py",
   "mimetype": "text/x-python",
   "name": "python",
   "nbconvert_exporter": "python",
   "pygments_lexer": "ipython3",
   "version": "3.12.7"
  }
 },
 "nbformat": 4,
 "nbformat_minor": 5
}
